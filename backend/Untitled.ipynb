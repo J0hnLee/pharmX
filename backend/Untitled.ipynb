{
 "cells": [
  {
   "cell_type": "code",
   "execution_count": 2,
   "metadata": {},
   "outputs": [],
   "source": [
    "import requests\n",
    "import os\n",
    "import zipfile\n",
    "import time\n",
    "\n",
    "def real_estate_crawler(year, season):\n",
    "  if year > 1000:\n",
    "    year -= 1911\n",
    "\n",
    "  # download real estate zip content\n",
    "  res = requests.get(\"https://plvr.land.moi.gov.tw//DownloadSeason?season=\"+str(year)+\"S\"+str(season)+\"&type=zip&fileName=lvr_landcsv.zip\")\n",
    "\n",
    "  # save content to file\n",
    "  fname = str(year)+str(season)+'.zip'\n",
    "  open(fname, 'wb').write(res.content)\n",
    "\n",
    "  # make additional folder for files to extract\n",
    "  folder = 'real_estate' + str(year) + str(season)\n",
    "  if not os.path.isdir(folder):\n",
    "    os.mkdir(folder)\n",
    "\n",
    "  # extract files to the folder\n",
    "  with zipfile.ZipFile(fname, 'r') as zip_ref:\n",
    "      zip_ref.extractall(folder)\n",
    "\n",
    "  time.sleep(10)"
   ]
  },
  {
   "cell_type": "code",
   "execution_count": null,
   "metadata": {},
   "outputs": [
    {
     "name": "stdout",
     "output_type": "stream",
     "text": [
      "102 1\n",
      "102 2\n"
     ]
    }
   ],
   "source": [
    "real_estate_crawler(101, 3)\n",
    "real_estate_crawler(101, 4)\n",
    "\n",
    "for year in range(102, 108):\n",
    "  for season in range(1,5):\n",
    "    print(year, season)\n",
    "    real_estate_crawler(year, season)\n",
    "\n",
    "real_estate_crawler(108, 1)\n",
    "real_estate_crawler(108, 2)"
   ]
  },
  {
   "cell_type": "code",
   "execution_count": null,
   "metadata": {},
   "outputs": [],
   "source": []
  }
 ],
 "metadata": {
  "kernelspec": {
   "display_name": "Python 3",
   "language": "python",
   "name": "python3"
  },
  "language_info": {
   "codemirror_mode": {
    "name": "ipython",
    "version": 3
   },
   "file_extension": ".py",
   "mimetype": "text/x-python",
   "name": "python",
   "nbconvert_exporter": "python",
   "pygments_lexer": "ipython3",
   "version": "3.7.10"
  }
 },
 "nbformat": 4,
 "nbformat_minor": 4
}
