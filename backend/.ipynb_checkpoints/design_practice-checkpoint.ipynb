{
 "cells": [
  {
   "cell_type": "code",
   "execution_count": 12,
   "id": "74bde53c-a1bf-4add-a031-962acb536dff",
   "metadata": {},
   "outputs": [
    {
     "ename": "IndentationError",
     "evalue": "unindent does not match any outer indentation level (<tokenize>, line 8)",
     "output_type": "error",
     "traceback": [
      "\u001b[0;36m  File \u001b[0;32m\"<tokenize>\"\u001b[0;36m, line \u001b[0;32m8\u001b[0m\n\u001b[0;31m    def compareTo(card_1,card_2):\u001b[0m\n\u001b[0m    ^\u001b[0m\n\u001b[0;31mIndentationError\u001b[0m\u001b[0;31m:\u001b[0m unindent does not match any outer indentation level\n"
     ]
    }
   ],
   "source": [
    "class Card:\n",
    "    self.number=number\n",
    "    self.suit=suit\n",
    "#     def __init__(self,number,suit):\n",
    "#         self.number=number\n",
    "#         self.suit=suit\n",
    "\n",
    "    def compareTo(card_1,card_2):\n",
    "        if card_1.number>card_2.number:\n",
    "            value=card_1.number-card_2.number\n",
    "            print(value)\n",
    "            return value\n",
    "\n",
    "if __name__ == '__main__':\n",
    "    Card_1=Card(7,'梅花')\n",
    "    Card_2=Card(5,'黑桃')\n",
    "    Card.compareTo(Card_1,Card_2)"
   ]
  },
  {
   "cell_type": "code",
   "execution_count": 3,
   "id": "396184bb-bc65-4431-9b66-274bda57df90",
   "metadata": {},
   "outputs": [
    {
     "data": {
      "text/plain": [
       "__main__.Card"
      ]
     },
     "execution_count": 3,
     "metadata": {},
     "output_type": "execute_result"
    }
   ],
   "source": [
    "type(Card_1)"
   ]
  },
  {
   "cell_type": "code",
   "execution_count": null,
   "id": "0d797c67-e3f9-415f-afa2-ce3c6a5b3a55",
   "metadata": {},
   "outputs": [],
   "source": []
  }
 ],
 "metadata": {
  "kernelspec": {
   "display_name": "Python 3",
   "language": "python",
   "name": "python3"
  },
  "language_info": {
   "codemirror_mode": {
    "name": "ipython",
    "version": 3
   },
   "file_extension": ".py",
   "mimetype": "text/x-python",
   "name": "python",
   "nbconvert_exporter": "python",
   "pygments_lexer": "ipython3",
   "version": "3.7.10"
  }
 },
 "nbformat": 4,
 "nbformat_minor": 5
}
