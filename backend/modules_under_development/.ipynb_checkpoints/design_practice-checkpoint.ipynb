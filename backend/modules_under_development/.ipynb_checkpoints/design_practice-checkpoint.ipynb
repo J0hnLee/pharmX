{
 "cells": [
  {
   "cell_type": "code",
   "execution_count": 40,
   "id": "74bde53c-a1bf-4add-a031-962acb536dff",
   "metadata": {},
   "outputs": [],
   "source": [
    "import random\n",
    "\n",
    "class Card:\n",
    "    def __init__(self,number,suit):\n",
    "        self.number=number\n",
    "        self.suit=suit\n",
    "\n",
    "    def compareTo(card_1,card_2):\n",
    "        if card_1.number>card_2.number:\n",
    "            value=card_1.number-card_2.number\n",
    "            print(value)\n",
    "            return value\n",
    "    def __str__(self):\n",
    "        card=\"{} {}\".format(self.number,self.suit)\n",
    "        return card\n",
    "\n",
    "    \n",
    "class Session:\n",
    "    # this class is for manipulation card state\n",
    "    def __init__(self):\n",
    "        suits=['黑桃','紅心','磚塊','梅花']\n",
    "        numbers=[i+1 for i in range(12)]\n",
    "        self.card=[Card(num,suit) for num in numbers for suit in suits]\n",
    "        self.discard=[]\n",
    "    \n",
    "    def draw(self):\n",
    "        drawCard=self.card.pop(1)\n",
    "        return drawCard\n",
    "    \n",
    "    def discard(self,card):\n",
    "        self.discard.append(card)\n",
    "        \n",
    "    def shuffle(card_stack):\n",
    "        random.shuffle(card_stack)\n",
    "    \n",
    "    "
   ]
  },
  {
   "cell_type": "code",
   "execution_count": 41,
   "id": "83c27d80-f286-4da8-95d4-f0ab6f8091bd",
   "metadata": {},
   "outputs": [
    {
     "name": "stdout",
     "output_type": "stream",
     "text": [
      "2\n"
     ]
    }
   ],
   "source": [
    "if __name__ == '__main__':\n",
    "    Card_1=Card(7,'梅花')\n",
    "    Card_2=Card(5,'黑桃')\n",
    "    Card.compareTo(Card_1,Card_2)"
   ]
  },
  {
   "cell_type": "code",
   "execution_count": 42,
   "id": "0d797c67-e3f9-415f-afa2-ce3c6a5b3a55",
   "metadata": {},
   "outputs": [],
   "source": [
    "session=Session()"
   ]
  },
  {
   "cell_type": "code",
   "execution_count": 48,
   "id": "5834ead8-a300-4688-a48a-2d6d0ff34fec",
   "metadata": {},
   "outputs": [
    {
     "data": {
      "text/plain": [
       "['__class__',\n",
       " '__delattr__',\n",
       " '__dict__',\n",
       " '__dir__',\n",
       " '__doc__',\n",
       " '__eq__',\n",
       " '__format__',\n",
       " '__ge__',\n",
       " '__getattribute__',\n",
       " '__gt__',\n",
       " '__hash__',\n",
       " '__init__',\n",
       " '__init_subclass__',\n",
       " '__le__',\n",
       " '__lt__',\n",
       " '__module__',\n",
       " '__ne__',\n",
       " '__new__',\n",
       " '__reduce__',\n",
       " '__reduce_ex__',\n",
       " '__repr__',\n",
       " '__setattr__',\n",
       " '__sizeof__',\n",
       " '__str__',\n",
       " '__subclasshook__',\n",
       " '__weakref__',\n",
       " 'card']"
      ]
     },
     "execution_count": 48,
     "metadata": {},
     "output_type": "execute_result"
    }
   ],
   "source": [
    "dir(session)"
   ]
  },
  {
   "cell_type": "code",
   "execution_count": null,
   "id": "a15efda1-9b74-487b-a968-e0ff34e94b96",
   "metadata": {},
   "outputs": [],
   "source": []
  }
 ],
 "metadata": {
  "kernelspec": {
   "display_name": "Python 3",
   "language": "python",
   "name": "python3"
  },
  "language_info": {
   "codemirror_mode": {
    "name": "ipython",
    "version": 3
   },
   "file_extension": ".py",
   "mimetype": "text/x-python",
   "name": "python",
   "nbconvert_exporter": "python",
   "pygments_lexer": "ipython3",
   "version": "3.7.10"
  }
 },
 "nbformat": 4,
 "nbformat_minor": 5
}
