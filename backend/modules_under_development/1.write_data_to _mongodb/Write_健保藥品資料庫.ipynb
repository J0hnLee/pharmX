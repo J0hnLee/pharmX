{
 "cells": [
  {
   "cell_type": "markdown",
   "id": "a2436bb5-d8d9-433a-9d9d-ea24de0c758d",
   "metadata": {},
   "source": [
    "# Write 健保藥品資料庫"
   ]
  },
  {
   "cell_type": "code",
   "execution_count": 1,
   "id": "20eeccce-a9f2-4b22-8938-168e6821d026",
   "metadata": {},
   "outputs": [],
   "source": [
    "import pandas as pd\n",
    "import pymongo\n",
    "from flask_pymongo import PyMongo\n",
    "from flask import Response, Flask, jsonify\n",
    "from pymongo import MongoClient\n",
    "import json"
   ]
  },
  {
   "cell_type": "code",
   "execution_count": 64,
   "id": "4799ca16-9ba7-44a1-ae9e-4339dde561a4",
   "metadata": {},
   "outputs": [],
   "source": [
    "df=pd.read_csv('./健保用藥品項查詢項目檔_健保用藥品項.csv')"
   ]
  },
  {
   "cell_type": "code",
   "execution_count": 55,
   "id": "38fc56bc-f310-4186-b2f4-7cbb8cff8781",
   "metadata": {},
   "outputs": [
    {
     "data": {
      "text/html": [
       "<div>\n",
       "<style scoped>\n",
       "    .dataframe tbody tr th:only-of-type {\n",
       "        vertical-align: middle;\n",
       "    }\n",
       "\n",
       "    .dataframe tbody tr th {\n",
       "        vertical-align: top;\n",
       "    }\n",
       "\n",
       "    .dataframe thead th {\n",
       "        text-align: right;\n",
       "    }\n",
       "</style>\n",
       "<table border=\"1\" class=\"dataframe\">\n",
       "  <thead>\n",
       "    <tr style=\"text-align: right;\">\n",
       "      <th></th>\n",
       "      <th>異動</th>\n",
       "      <th>藥品代號</th>\n",
       "      <th>藥品英文名稱</th>\n",
       "      <th>藥品中文名稱</th>\n",
       "      <th>規格量</th>\n",
       "      <th>規格單位</th>\n",
       "      <th>單複方</th>\n",
       "      <th>參考價</th>\n",
       "      <th>有效起日</th>\n",
       "      <th>有效迄日</th>\n",
       "      <th>製造廠名稱</th>\n",
       "      <th>劑型</th>\n",
       "      <th>成份</th>\n",
       "      <th>ATC_CODE</th>\n",
       "    </tr>\n",
       "  </thead>\n",
       "  <tbody>\n",
       "    <tr>\n",
       "      <th>0</th>\n",
       "      <td>NaN</td>\n",
       "      <td>A032060323</td>\n",
       "      <td>VOLTAREN EMULGEL 1% (DICLOFENAC)</td>\n",
       "      <td>服他寧乳膠１％（待克菲那）</td>\n",
       "      <td>6.0</td>\n",
       "      <td>GM</td>\n",
       "      <td>單方</td>\n",
       "      <td>51.30</td>\n",
       "      <td>870301</td>\n",
       "      <td>890331</td>\n",
       "      <td>台灣諾華大藥廠股份有</td>\n",
       "      <td>乳膠劑</td>\n",
       "      <td>DICLOFENAC</td>\n",
       "      <td>M02AA15</td>\n",
       "    </tr>\n",
       "    <tr>\n",
       "      <th>1</th>\n",
       "      <td>NaN</td>\n",
       "      <td>A032060323</td>\n",
       "      <td>VOLTAREN EMULGEL 1% (DICLOFENAC)</td>\n",
       "      <td>服他寧乳膠１％（待克菲那）</td>\n",
       "      <td>6.0</td>\n",
       "      <td>GM</td>\n",
       "      <td>單方</td>\n",
       "      <td>46.25</td>\n",
       "      <td>890401</td>\n",
       "      <td>900331</td>\n",
       "      <td>台灣諾華大藥廠股份有</td>\n",
       "      <td>乳膠劑</td>\n",
       "      <td>DICLOFENAC</td>\n",
       "      <td>M02AA15</td>\n",
       "    </tr>\n",
       "    <tr>\n",
       "      <th>2</th>\n",
       "      <td>NaN</td>\n",
       "      <td>A032060323</td>\n",
       "      <td>VOLTAREN EMULGEL 1% (DICLOFENAC)</td>\n",
       "      <td>服他寧乳膠１％（待克菲那）</td>\n",
       "      <td>6.0</td>\n",
       "      <td>GM</td>\n",
       "      <td>單方</td>\n",
       "      <td>40.70</td>\n",
       "      <td>900401</td>\n",
       "      <td>911231</td>\n",
       "      <td>台灣諾華大藥廠股份有</td>\n",
       "      <td>乳膠劑</td>\n",
       "      <td>DICLOFENAC</td>\n",
       "      <td>M02AA15</td>\n",
       "    </tr>\n",
       "    <tr>\n",
       "      <th>3</th>\n",
       "      <td>NaN</td>\n",
       "      <td>A032060323</td>\n",
       "      <td>VOLTAREN EMULGEL 1% (DICLOFENAC)</td>\n",
       "      <td>服他寧乳膠１％（待克菲那）</td>\n",
       "      <td>6.0</td>\n",
       "      <td>GM</td>\n",
       "      <td>單方</td>\n",
       "      <td>16.90</td>\n",
       "      <td>920101</td>\n",
       "      <td>950630</td>\n",
       "      <td>台灣諾華大藥廠股份有</td>\n",
       "      <td>乳膠劑</td>\n",
       "      <td>DICLOFENAC</td>\n",
       "      <td>M02AA15</td>\n",
       "    </tr>\n",
       "    <tr>\n",
       "      <th>4</th>\n",
       "      <td>NaN</td>\n",
       "      <td>A032060323</td>\n",
       "      <td>VOLTAREN EMULGEL 1% (DICLOFENAC)</td>\n",
       "      <td>服他寧乳膠１％（待克菲那）</td>\n",
       "      <td>6.0</td>\n",
       "      <td>GM</td>\n",
       "      <td>單方</td>\n",
       "      <td>0.00</td>\n",
       "      <td>950701</td>\n",
       "      <td>9991231</td>\n",
       "      <td>台灣諾華大藥廠股份有</td>\n",
       "      <td>乳膠劑</td>\n",
       "      <td>DICLOFENAC</td>\n",
       "      <td>M02AA15</td>\n",
       "    </tr>\n",
       "  </tbody>\n",
       "</table>\n",
       "</div>"
      ],
      "text/plain": [
       "    異動        藥品代號                            藥品英文名稱         藥品中文名稱  規格量 規格單位  \\\n",
       "0  NaN  A032060323  VOLTAREN EMULGEL 1% (DICLOFENAC)  服他寧乳膠１％（待克菲那）  6.0   GM   \n",
       "1  NaN  A032060323  VOLTAREN EMULGEL 1% (DICLOFENAC)  服他寧乳膠１％（待克菲那）  6.0   GM   \n",
       "2  NaN  A032060323  VOLTAREN EMULGEL 1% (DICLOFENAC)  服他寧乳膠１％（待克菲那）  6.0   GM   \n",
       "3  NaN  A032060323  VOLTAREN EMULGEL 1% (DICLOFENAC)  服他寧乳膠１％（待克菲那）  6.0   GM   \n",
       "4  NaN  A032060323  VOLTAREN EMULGEL 1% (DICLOFENAC)  服他寧乳膠１％（待克菲那）  6.0   GM   \n",
       "\n",
       "  單複方        參考價    有效起日     有效迄日       製造廠名稱   劑型          成份 ATC_CODE  \n",
       "0  單方      51.30  870301   890331  台灣諾華大藥廠股份有  乳膠劑  DICLOFENAC  M02AA15  \n",
       "1  單方      46.25  890401   900331  台灣諾華大藥廠股份有  乳膠劑  DICLOFENAC  M02AA15  \n",
       "2  單方      40.70  900401   911231  台灣諾華大藥廠股份有  乳膠劑  DICLOFENAC  M02AA15  \n",
       "3  單方      16.90  920101   950630  台灣諾華大藥廠股份有  乳膠劑  DICLOFENAC  M02AA15  \n",
       "4  單方       0.00  950701  9991231  台灣諾華大藥廠股份有  乳膠劑  DICLOFENAC  M02AA15  "
      ]
     },
     "execution_count": 55,
     "metadata": {},
     "output_type": "execute_result"
    }
   ],
   "source": [
    "df.head()"
   ]
  },
  {
   "cell_type": "code",
   "execution_count": 69,
   "id": "74667487-7eb0-400b-ad95-a179efe3f779",
   "metadata": {},
   "outputs": [
    {
     "name": "stdout",
     "output_type": "stream",
     "text": [
      "<class 'pandas.core.frame.DataFrame'>\n",
      "RangeIndex: 204013 entries, 0 to 204012\n",
      "Data columns (total 14 columns):\n",
      " #   Column    Non-Null Count   Dtype  \n",
      "---  ------    --------------   -----  \n",
      " 0   異動        41 non-null      object \n",
      " 1   藥品代號      204013 non-null  object \n",
      " 2   藥品英文名稱    204013 non-null  object \n",
      " 3   藥品中文名稱    203601 non-null  object \n",
      " 4   規格量       204013 non-null  float64\n",
      " 5   規格單位      96314 non-null   object \n",
      " 6   單複方       204013 non-null  object \n",
      " 7   參考價       204013 non-null  object \n",
      " 8   有效起日      204013 non-null  int64  \n",
      " 9   有效迄日      204013 non-null  int64  \n",
      " 10  製造廠名稱     203992 non-null  object \n",
      " 11  劑型        204008 non-null  object \n",
      " 12  成份        202450 non-null  object \n",
      " 13  ATC_CODE  204013 non-null  object \n",
      "dtypes: float64(1), int64(2), object(11)\n",
      "memory usage: 21.8+ MB\n"
     ]
    }
   ],
   "source": [
    "df.info()"
   ]
  },
  {
   "cell_type": "code",
   "execution_count": 77,
   "id": "1b60b1e4-1bb1-4b22-909c-7b1ce63cd220",
   "metadata": {},
   "outputs": [
    {
     "data": {
      "text/html": [
       "<div>\n",
       "<style scoped>\n",
       "    .dataframe tbody tr th:only-of-type {\n",
       "        vertical-align: middle;\n",
       "    }\n",
       "\n",
       "    .dataframe tbody tr th {\n",
       "        vertical-align: top;\n",
       "    }\n",
       "\n",
       "    .dataframe thead th {\n",
       "        text-align: right;\n",
       "    }\n",
       "</style>\n",
       "<table border=\"1\" class=\"dataframe\">\n",
       "  <thead>\n",
       "    <tr style=\"text-align: right;\">\n",
       "      <th></th>\n",
       "    </tr>\n",
       "  </thead>\n",
       "  <tbody>\n",
       "    <tr>\n",
       "      <th>0</th>\n",
       "    </tr>\n",
       "    <tr>\n",
       "      <th>1</th>\n",
       "    </tr>\n",
       "    <tr>\n",
       "      <th>2</th>\n",
       "    </tr>\n",
       "    <tr>\n",
       "      <th>3</th>\n",
       "    </tr>\n",
       "    <tr>\n",
       "      <th>4</th>\n",
       "    </tr>\n",
       "    <tr>\n",
       "      <th>...</th>\n",
       "    </tr>\n",
       "    <tr>\n",
       "      <th>204008</th>\n",
       "    </tr>\n",
       "    <tr>\n",
       "      <th>204009</th>\n",
       "    </tr>\n",
       "    <tr>\n",
       "      <th>204010</th>\n",
       "    </tr>\n",
       "    <tr>\n",
       "      <th>204011</th>\n",
       "    </tr>\n",
       "    <tr>\n",
       "      <th>204012</th>\n",
       "    </tr>\n",
       "  </tbody>\n",
       "</table>\n",
       "<p>204013 rows × 0 columns</p>\n",
       "</div>"
      ],
      "text/plain": [
       "Empty DataFrame\n",
       "Columns: []\n",
       "Index: [0, 1, 2, 3, 4, 5, 6, 7, 8, 9, 10, 11, 12, 13, 14, 15, 16, 17, 18, 19, 20, 21, 22, 23, 24, 25, 26, 27, 28, 29, 30, 31, 32, 33, 34, 35, 36, 37, 38, 39, 40, 41, 42, 43, 44, 45, 46, 47, 48, 49, 50, 51, 52, 53, 54, 55, 56, 57, 58, 59, 60, 61, 62, 63, 64, 65, 66, 67, 68, 69, 70, 71, 72, 73, 74, 75, 76, 77, 78, 79, 80, 81, 82, 83, 84, 85, 86, 87, 88, 89, 90, 91, 92, 93, 94, 95, 96, 97, 98, 99, ...]\n",
       "\n",
       "[204013 rows x 0 columns]"
      ]
     },
     "execution_count": 77,
     "metadata": {},
     "output_type": "execute_result"
    }
   ],
   "source": [
    "df.filter(regex ='服他寧')"
   ]
  },
  {
   "cell_type": "code",
   "execution_count": 67,
   "id": "24ffd8fd-95bd-4a78-aab5-438e2f9b9e8c",
   "metadata": {},
   "outputs": [
    {
     "data": {
      "text/plain": [
       "Series([], Name: 參考價, dtype: object)"
      ]
     },
     "execution_count": 67,
     "metadata": {},
     "output_type": "execute_result"
    }
   ],
   "source": [
    "df['參考價'].filter(regex ='-')"
   ]
  },
  {
   "cell_type": "code",
   "execution_count": 4,
   "id": "fc43ba3d-71a1-428e-9775-e79ef5ecb98d",
   "metadata": {},
   "outputs": [],
   "source": [
    "app = Flask(__name__)\n",
    "mongo = PyMongo(app, uri=\"mongodb://localhost:27017/drug_data\")"
   ]
  },
  {
   "cell_type": "code",
   "execution_count": 5,
   "id": "bf28df0b-1b9c-41cc-9c3e-48f29c57d92a",
   "metadata": {},
   "outputs": [],
   "source": [
    "# Making a Connection with MongoClient\n",
    "client = MongoClient(\"mongodb://localhost:27017/\")\n",
    "# database\n",
    "db = client[\"drug_data\"]\n",
    "# collection\n",
    "company= db[\"drug_data\"]"
   ]
  },
  {
   "cell_type": "code",
   "execution_count": 7,
   "id": "1552c3a1-2766-42e2-b581-e1868b3905b3",
   "metadata": {},
   "outputs": [
    {
     "name": "stderr",
     "output_type": "stream",
     "text": [
      "/usr/local/anaconda3/envs/forPractice/lib/python3.7/site-packages/ipykernel_launcher.py:1: FutureWarning: Using short name for 'orient' is deprecated. Only the options: ('dict', list, 'series', 'split', 'records', 'index') will be used in a future version. Use one of the above to silence this warning.\n",
      "  \"\"\"Entry point for launching an IPython kernel.\n"
     ]
    },
    {
     "data": {
      "text/plain": [
       "<pymongo.results.InsertManyResult at 0x7fd48acde640>"
      ]
     },
     "execution_count": 7,
     "metadata": {},
     "output_type": "execute_result"
    }
   ],
   "source": [
    "company.insert_many(df.to_dict('record'))"
   ]
  },
  {
   "cell_type": "code",
   "execution_count": 51,
   "id": "b21015fe-dc6b-4c3f-9120-d779662cab7d",
   "metadata": {},
   "outputs": [],
   "source": [
    "ww=company.find_one({\"藥品代號\": 'A032060323'})"
   ]
  },
  {
   "cell_type": "code",
   "execution_count": 54,
   "id": "2e4bd5b4-59e3-485b-99a1-0e4f5c53937c",
   "metadata": {},
   "outputs": [
    {
     "data": {
      "text/plain": [
       "{'_id': ObjectId('61bb529e02d4986f3c50a47b'),\n",
       " '異動': nan,\n",
       " '藥品代號': 'A032060323',\n",
       " '藥品英文名稱': 'VOLTAREN EMULGEL 1% (DICLOFENAC)',\n",
       " '藥品中文名稱': '服他寧乳膠１％（待克菲那）',\n",
       " '規格量': 6.0,\n",
       " '規格單位': 'GM',\n",
       " '單複方': '單方',\n",
       " '參考價': '    51.30',\n",
       " '有效起日': 870301,\n",
       " '有效迄日': 890331,\n",
       " '製造廠名稱': '台灣諾華大藥廠股份有',\n",
       " '劑型': '乳膠劑',\n",
       " '成份': 'DICLOFENAC',\n",
       " 'ATC_CODE': 'M02AA15'}"
      ]
     },
     "execution_count": 54,
     "metadata": {},
     "output_type": "execute_result"
    }
   ],
   "source": [
    "ww"
   ]
  },
  {
   "cell_type": "code",
   "execution_count": null,
   "id": "ef24549a-95a3-4b63-8cc9-34242feb9c30",
   "metadata": {},
   "outputs": [],
   "source": []
  }
 ],
 "metadata": {
  "kernelspec": {
   "display_name": "Python 3",
   "language": "python",
   "name": "python3"
  },
  "language_info": {
   "codemirror_mode": {
    "name": "ipython",
    "version": 3
   },
   "file_extension": ".py",
   "mimetype": "text/x-python",
   "name": "python",
   "nbconvert_exporter": "python",
   "pygments_lexer": "ipython3",
   "version": "3.7.10"
  }
 },
 "nbformat": 4,
 "nbformat_minor": 5
}
