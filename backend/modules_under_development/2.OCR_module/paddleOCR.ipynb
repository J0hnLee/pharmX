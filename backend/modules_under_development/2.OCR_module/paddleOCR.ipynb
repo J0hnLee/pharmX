{
 "cells": [
  {
   "cell_type": "markdown",
   "id": "866e50a1-f9dc-4bdf-aa9d-a859c777cc73",
   "metadata": {},
   "source": [
    "# OCR Demo:"
   ]
  },
  {
   "cell_type": "code",
   "execution_count": 27,
   "id": "ece7059f-d325-412a-bff7-79a6966b3e19",
   "metadata": {},
   "outputs": [
    {
     "name": "stdout",
     "output_type": "stream",
     "text": [
      "Namespace(benchmark=False, cls_batch_num=6, cls_image_shape='3, 48, 192', cls_model_dir=None, cls_thresh=0.9, cpu_threads=10, det=True, det_algorithm='DB', det_db_box_thresh=0.6, det_db_score_mode='fast', det_db_thresh=0.3, det_db_unclip_ratio=1.5, det_east_cover_thresh=0.1, det_east_nms_thresh=0.2, det_east_score_thresh=0.8, det_limit_side_len=960, det_limit_type='max', det_model_dir='/Users/johnlee/.paddleocr/2.3.0.1/ocr/det/en/en_ppocr_mobile_v2.0_det_infer', det_sast_nms_thresh=0.2, det_sast_polygon=False, det_sast_score_thresh=0.5, drop_score=0.5, e2e_algorithm='PGNet', e2e_char_dict_path='./ppocr/utils/ic15_dict.txt', e2e_limit_side_len=768, e2e_limit_type='max', e2e_model_dir=None, e2e_pgnet_mode='fast', e2e_pgnet_polygon=True, e2e_pgnet_score_thresh=0.5, e2e_pgnet_valid_set='totaltext', enable_mkldnn=False, gpu_mem=500, help='==SUPPRESS==', image_dir=None, ir_optim=True, label_list=['0', '180'], lang='en', layout_path_model='lp://PubLayNet/ppyolov2_r50vd_dcn_365e_publaynet/config', max_batch_size=10, max_text_length=25, min_subgraph_size=15, output='./output/table', precision='fp32', process_id=0, rec=True, rec_algorithm='CRNN', rec_batch_num=6, rec_char_dict_path='/usr/local/anaconda3/envs/forPractice/lib/python3.7/site-packages/paddleocr/ppocr/utils/en_dict.txt', rec_char_type='ch', rec_image_shape='3, 32, 320', rec_model_dir='/Users/johnlee/.paddleocr/2.3.0.1/ocr/rec/en/en_number_mobile_v2.0_rec_infer', save_log_path='./log_output/', show_log=True, table_char_dict_path='/usr/local/anaconda3/envs/forPractice/lib/python3.7/site-packages/paddleocr/ppocr/utils/dict/table_structure_dict.txt', table_char_type='en', table_max_len=488, table_model_dir='/Users/johnlee/.paddleocr/2.3.0.1/ocr/table/en_ppocr_mobile_v2.0_table_structure_infer', total_process_num=1, type='ocr', use_angle_cls=False, use_dilation=False, use_gpu=False, use_mp=False, use_pdserving=False, use_space_char=True, use_tensorrt=False, version='PP-OCR', vis_font_path='./doc/fonts/simfang.ttf', warmup=True)\n"
     ]
    }
   ],
   "source": [
    "import os\n",
    "import cv2\n",
    "from paddleocr import PPStructure,draw_structure_result,save_structure_res\n",
    "\n",
    "\n",
    "#table_engine = PPStructure(show_log=True,use_gpu=False,version='PP-OCR',lang='chinese_cht')\n",
    "table_engine = PPStructure(show_log=True,use_gpu=False,version='PP-OCR',lang='en')"
   ]
  },
  {
   "cell_type": "code",
   "execution_count": 4,
   "id": "067fc7ec-f0e6-4e03-9fd2-01a46786cdc3",
   "metadata": {},
   "outputs": [
    {
     "name": "stdout",
     "output_type": "stream",
     "text": [
      "[2021/09/19 01:29:59] root WARNING: lang en is not support in PP-OCRv2, use PP-OCR instead\n",
      "[2021/09/19 01:29:59] root WARNING: lang chinese_cht is not support in PP-OCRv2, use PP-OCR instead\n",
      "[2021/09/19 01:29:59] root WARNING: version PP-OCRv2 not support cls models, use version PP-OCR instead\n",
      "Namespace(benchmark=False, cls_batch_num=6, cls_image_shape='3, 48, 192', cls_model_dir='/Users/johnlee/.paddleocr/2.3.0.1/ocr/cls/ch_ppocr_mobile_v2.0_cls_infer', cls_thresh=0.9, cpu_threads=10, det=True, det_algorithm='DB', det_db_box_thresh=0.6, det_db_score_mode='fast', det_db_thresh=0.3, det_db_unclip_ratio=1.5, det_east_cover_thresh=0.1, det_east_nms_thresh=0.2, det_east_score_thresh=0.8, det_limit_side_len=960, det_limit_type='max', det_model_dir='/Users/johnlee/.paddleocr/2.3.0.1/ocr/det/en/en_ppocr_mobile_v2.0_det_infer', det_sast_nms_thresh=0.2, det_sast_polygon=False, det_sast_score_thresh=0.5, drop_score=0.5, e2e_algorithm='PGNet', e2e_char_dict_path='./ppocr/utils/ic15_dict.txt', e2e_limit_side_len=768, e2e_limit_type='max', e2e_model_dir=None, e2e_pgnet_mode='fast', e2e_pgnet_polygon=True, e2e_pgnet_score_thresh=0.5, e2e_pgnet_valid_set='totaltext', enable_mkldnn=False, gpu_mem=500, help='==SUPPRESS==', image_dir=None, ir_optim=True, label_list=['0', '180'], lang='chinese_cht', layout_path_model='lp://PubLayNet/ppyolov2_r50vd_dcn_365e_publaynet/config', max_batch_size=10, max_text_length=25, min_subgraph_size=15, output='./output/table', precision='fp32', process_id=0, rec=True, rec_algorithm='CRNN', rec_batch_num=6, rec_char_dict_path='/usr/local/anaconda3/envs/forPractice/lib/python3.7/site-packages/paddleocr/ppocr/utils/dict/chinese_cht_dict.txt', rec_char_type='ch', rec_image_shape='3, 32, 320', rec_model_dir='/Users/johnlee/.paddleocr/2.3.0.1/ocr/rec/chinese_cht/chinese_cht_mobile_v2.0_rec_infer', save_log_path='./log_output/', show_log=True, table_char_dict_path=None, table_char_type='en', table_max_len=488, table_model_dir=None, total_process_num=1, type='ocr', use_angle_cls=False, use_dilation=False, use_gpu=False, use_mp=False, use_pdserving=False, use_space_char=True, use_tensorrt=False, version='PP-OCRv2', vis_font_path='./doc/fonts/simfang.ttf', warmup=True)\n",
      "[2021/09/19 01:30:00] root WARNING: Since the angle classifier is not initialized, the angle classifier will not be uesd during the forward process\n",
      "[2021/09/19 01:30:00] root DEBUG: dt_boxes num : 59, elapse : 0.4005119800567627\n",
      "[2021/09/19 01:30:02] root DEBUG: rec_res num  : 59, elapse : 2.3044228553771973\n",
      "[2021/09/19 01:30:02] root WARNING: Since the angle classifier is not initialized, the angle classifier will not be uesd during the forward process\n",
      "[2021/09/19 01:30:03] root DEBUG: dt_boxes num : 59, elapse : 0.45183277130126953\n",
      "[2021/09/19 01:30:06] root DEBUG: rec_res num  : 59, elapse : 2.7446231842041016\n",
      "[[[2311.0, 311.0], [2431.0, 311.0], [2431.0, 340.0], [2311.0, 340.0]], ('張號條。', 0.7757003)]\n",
      "[[[1482.0, 452.0], [1918.0, 493.0], [1912.0, 552.0], [1476.0, 511.0]], ('醫院代號：0401180014', 0.9975589)]\n",
      "[[[2009.0, 497.0], [2458.0, 461.0], [2463.0, 519.0], [2014.0, 556.0]], ('健保卡就醫序號：0025', 0.96563387)]\n",
      "[[[1494.0, 523.0], [1918.0, 560.0], [1913.0, 615.0], [1489.0, 578.0]], ('就醫日期：2021/07/15', 0.9759801)]\n",
      "[[[2221.0, 546.0], [2371.0, 546.0], [2371.0, 588.0], [2221.0, 588.0]], ('內科部', 0.98814803)]\n",
      "[[[2027.0, 559.0], [2212.0, 559.0], [2212.0, 605.0], [2027.0, 605.0]], ('沈醫科別', 0.84453773)]\n",
      "[[[1508.0, 578.0], [1751.0, 607.0], [1743.0, 666.0], [1501.0, 637.0]], ('手齡：55v4m', 0.8966686)]\n",
      "[[[2031.0, 626.0], [2181.0, 617.0], [2183.0, 651.0], [2033.0, 660.0]], ('生別：F', 0.8465813)]\n",
      "[[[2086.0, 665.0], [2437.0, 637.0], [2441.0, 696.0], [2091.0, 724.0]], ('病歷號：6770413', 0.95195764)]\n",
      "[[[395.0, 710.0], [975.0, 710.0], [975.0, 781.0], [395.0, 781.0]], ('姓名：林春玉', 0.9597191)]\n",
      "[[[1499.0, 704.0], [1751.0, 733.0], [1744.0, 787.0], [1493.0, 758.0]], ('診斷：C53.9', 0.98976076)]\n",
      "[[[382.0, 794.0], [1022.0, 794.0], [1022.0, 853.0], [382.0, 853.0]], ('處方日期：2021/07/15', 0.99156827)]\n",
      "[[[1636.0, 788.0], [1741.0, 800.0], [1736.0, 846.0], [1631.0, 834.0]], ('B18.1', 0.9485099)]\n",
      "[[[1493.0, 835.0], [1861.0, 854.0], [1858.0, 912.0], [1489.0, 894.0]], ('帳號：21T05630237', 0.98867244)]\n",
      "[[[2021.0, 850.0], [2466.0, 809.0], [2472.0, 868.0], [2027.0, 909.0]], ('身分證號：P2218**x*', 0.87657994)]\n",
      "[[[366.0, 919.0], [666.0, 929.0], [665.0, 983.0], [364.0, 974.0]], ('O共1種藥', 0.8084017)]\n",
      "[[[729.0, 929.0], [1454.0, 902.0], [1457.0, 974.0], [732.0, 1000.0]], ('免部分負擔代碼及原因：001重大傷病', 0.97367257)]\n",
      "[[[1740.0, 924.0], [2006.0, 924.0], [2006.0, 970.0], [1740.0, 970.0]], ('過敏紀錄：無', 0.99375576)]\n",
      "[[[2421.0, 988.0], [2605.0, 977.0], [2609.0, 1036.0], [2425.0, 1047.0]], ('給藥日份', 0.9273979)]\n",
      "[[[2204.0, 1008.0], [2380.0, 1008.0], [2380.0, 1054.0], [2204.0, 1054.0]], ('健保碼', 0.9973572)]\n",
      "[[[1244.0, 1031.0], [1483.0, 1011.0], [1488.0, 1065.0], [1249.0, 1085.0]], ('途徑•用量', 0.80551946)]\n",
      "[[[1680.0, 1033.0], [1761.0, 1033.0], [1761.0, 1079.0], [1680.0, 1079.0]], ('用法', 0.9982799)]\n",
      "[[[1919.0, 1030.0], [2046.0, 1019.0], [2050.0, 1070.0], [1923.0, 1081.0]], ('總數量', 0.98721963)]\n",
      "[[[2483.0, 1117.0], [2582.0, 1117.0], [2582.0, 1151.0], [2483.0, 1151.0]], ('28天', 0.99655104)]\n",
      "[[[2099.0, 1131.0], [2407.0, 1107.0], [2411.0, 1162.0], [2103.0, 1186.0]], ('BA24469100', 0.9983751)]\n",
      "[[[1593.0, 1143.0], [2074.0, 1134.0], [2075.0, 1192.0], [1594.0, 1202.0]], ('電QDAC2HR電28tab', 0.8033337)]\n",
      "[[[554.0, 1155.0], [674.0, 1155.0], [674.0, 1184.0], [554.0, 1184.0]], ('Entec', 0.95651805)]\n",
      "[[[1533.0, 1155.0], [1594.0, 1155.0], [1594.0, 1184.0], [1533.0, 1184.0]], ('tab', 0.9667708)]\n",
      "[[[984.0, 1428.0], [1108.0, 1428.0], [1108.0, 1474.0], [984.0, 1474.0]], ('臺大用', 0.98911804)]\n",
      "[[[215.0, 2444.0], [2556.0, 2449.0], [2556.0, 2520.0], [215.0, 2516.0]], ('所列藥品建議以原處方品項調劑（食藥署口藥品供應資訊平合日公告短缺時之替代廠牌不在此限）', 0.9695356)]\n",
      "[[[215.0, 2524.0], [2216.0, 2524.0], [2216.0, 2583.0], [215.0, 2583.0]], ('塗改無效，須有診治醫師簽章方為有效丶血糖試紙得依使用者之血糖機同廠牌提供。', 0.9545915)]\n",
      "[[[206.0, 2600.0], [430.0, 2600.0], [430.0, 2646.0], [206.0, 2646.0]], ('診治醫師', 0.9942603)]\n",
      "[[[1838.0, 2604.0], [2397.0, 2604.0], [2397.0, 2646.0], [1838.0, 2646.0]], ('第品次建議領藥期間', 0.8920078)]\n",
      "[[[210.0, 2663.0], [318.0, 2663.0], [318.0, 2730.0], [210.0, 2730.0]], ('簽章', 0.99280226)]\n",
      "[[[542.0, 2658.0], [997.0, 2667.0], [995.0, 2743.0], [541.0, 2734.0]], ('領藥號：5B-141', 0.8378433)]\n",
      "[[[1160.0, 2667.0], [1770.0, 2667.0], [1770.0, 2726.0], [1160.0, 2726.0]], ('2021/08/05~2021/08/11', 0.9636732)]\n",
      "[[[1851.0, 2667.0], [2556.0, 2667.0], [2556.0, 2722.0], [1851.0, 2722.0]], ('32021/09/02·2021/09/08', 0.9527626)]\n",
      "[[[1155.0, 2738.0], [1774.0, 2738.0], [1774.0, 2793.0], [1155.0, 2793.0]], ('過六、日及國定假日除外）', 0.9578417)]\n",
      "[[[1848.0, 2729.0], [2196.0, 2739.0], [2194.0, 2802.0], [1846.0, 2793.0]], ('口懷師李政熱', 0.6372066)]\n",
      "[[[1180.0, 2866.0], [1458.0, 2851.0], [1462.0, 2922.0], [1184.0, 2937.0]], ('陳師王聖元', 0.71033096)]\n",
      "[[[1864.0, 2919.0], [2693.0, 2919.0], [2693.0, 2974.0], [1864.0, 2974.0]], ('第2次領藥延後則第J均頒藥申期需', 0.8099004)]\n",
      "[[[1192.0, 2941.0], [1457.0, 2922.0], [1463.0, 2998.0], [1198.0, 3018.0]], ('榮字03795', 0.6428917)]\n",
      "[[[1546.0, 2968.0], [1801.0, 2988.0], [1796.0, 3051.0], [1540.0, 3031.0]], ('5981133573', 0.86011744)]\n",
      "[[[1890.0, 3049.0], [2324.0, 3049.0], [2324.0, 3079.0], [1890.0, 3079.0]], ('冉開立慢件病連續', 0.72066534)]\n",
      "[[[189.0, 3074.0], [700.0, 3079.0], [700.0, 3138.0], [189.0, 3133.0]], ('未核章無效丨核勳章', 0.8412085)]\n",
      "[[[1108.0, 3091.0], [1177.0, 3091.0], [1177.0, 3125.0], [1108.0, 3125.0]], ('l核', 0.73648196)]\n",
      "[[[1173.0, 3083.0], [1293.0, 3083.0], [1293.0, 3125.0], [1173.0, 3125.0]], ('電章', 0.51337415)]\n",
      "[[[111.0, 3633.0], [1357.0, 3624.0], [1358.0, 3708.0], [112.0, 3717.0]], ('生處方簽適期者·保險醫事服務機構不得調劑·', 0.8579232)]\n",
      "[[[2595.0, 3708.0], [2865.0, 3713.0], [2865.0, 3759.0], [2594.0, 3755.0]], ('預約順藥網址', 0.6134632)]\n"
     ]
    }
   ],
   "source": [
    "from paddleocr import PaddleOCR, draw_ocr\n",
    "from PIL import Image\n",
    "\n",
    "# change argument 'lang' can change language. \n",
    "ocr = PaddleOCR(lang=\"chinese_cht\",use_gpu=False) # first time will auto download model.\n",
    "img_path = './input_img/IMG_6082.PNG'\n",
    "result = ocr.ocr(img_path)\n",
    "# 可通过参数控制单独执行识别、检测\n",
    "result = ocr.ocr(img_path, det=True) #只执行识别\n",
    "#result = ocr.ocr(img_path, rec=True) #只执行检测\n",
    "# print result\n",
    "for line in result:\n",
    "    print(line)\n",
    "\n",
    "# visualization\n",
    "image = Image.open(img_path).convert('RGB')\n",
    "boxes = [line[0] for line in result]\n",
    "txts = [line[1][0] for line in result]\n",
    "scores = [line[1][1] for line in result]\n",
    "im_show = draw_ocr(image, boxes, txts, scores,font_path='./chinese_cht.ttf')\n",
    "im_show = Image.fromarray(im_show)\n",
    "im_show.save('./output/OCR_result.jpg')"
   ]
  },
  {
   "cell_type": "markdown",
   "id": "dc5abd27-cdb8-41cf-9121-cc5e2007d130",
   "metadata": {},
   "source": [
    "# Table transfer to excel demo:"
   ]
  },
  {
   "cell_type": "code",
   "execution_count": 10,
   "id": "fd738f91-c933-48af-8bcd-9ad66a9ded97",
   "metadata": {},
   "outputs": [],
   "source": [
    "import cv2\n",
    "import numpy as np\n",
    "import sys\n",
    "from matplotlib import pyplot as plt\n",
    "import os\n",
    "from paddleocr import PPStructure,draw_structure_result,save_structure_res"
   ]
  },
  {
   "cell_type": "code",
   "execution_count": 12,
   "id": "dbe1520a-3961-4cf1-96d1-2a138839d19f",
   "metadata": {},
   "outputs": [
    {
     "name": "stdout",
     "output_type": "stream",
     "text": [
      "[2021/09/19 01:34:56] root WARNING: lang en is not support in PP-OCRv2, use PP-OCR instead\n",
      "[2021/09/19 01:34:56] root WARNING: lang chinese_cht is not support in PP-OCRv2, use PP-OCR instead\n",
      "[2021/09/19 01:34:56] root WARNING: version PP-OCRv2 not support table models, use version PP-OCR instead\n",
      "Namespace(benchmark=False, cls_batch_num=6, cls_image_shape='3, 48, 192', cls_model_dir=None, cls_thresh=0.9, cpu_threads=10, det=True, det_algorithm='DB', det_db_box_thresh=0.6, det_db_score_mode='fast', det_db_thresh=0.3, det_db_unclip_ratio=1.5, det_east_cover_thresh=0.1, det_east_nms_thresh=0.2, det_east_score_thresh=0.8, det_limit_side_len=960, det_limit_type='max', det_model_dir='/Users/johnlee/.paddleocr/2.3.0.1/ocr/det/en/en_ppocr_mobile_v2.0_det_infer', det_sast_nms_thresh=0.2, det_sast_polygon=False, det_sast_score_thresh=0.5, drop_score=0.5, e2e_algorithm='PGNet', e2e_char_dict_path='./ppocr/utils/ic15_dict.txt', e2e_limit_side_len=768, e2e_limit_type='max', e2e_model_dir=None, e2e_pgnet_mode='fast', e2e_pgnet_polygon=True, e2e_pgnet_score_thresh=0.5, e2e_pgnet_valid_set='totaltext', enable_mkldnn=False, gpu_mem=500, help='==SUPPRESS==', image_dir=None, ir_optim=True, label_list=['0', '180'], lang='chinese_cht', layout_path_model='lp://PubLayNet/ppyolov2_r50vd_dcn_365e_publaynet/config', max_batch_size=10, max_text_length=25, min_subgraph_size=15, output='./output/table', precision='fp32', process_id=0, rec=True, rec_algorithm='CRNN', rec_batch_num=6, rec_char_dict_path='/usr/local/anaconda3/envs/forPractice/lib/python3.7/site-packages/paddleocr/ppocr/utils/dict/chinese_cht_dict.txt', rec_char_type='ch', rec_image_shape='3, 32, 320', rec_model_dir='/Users/johnlee/.paddleocr/2.3.0.1/ocr/rec/chinese_cht/chinese_cht_mobile_v2.0_rec_infer', save_log_path='./log_output/', show_log=True, table_char_dict_path='/usr/local/anaconda3/envs/forPractice/lib/python3.7/site-packages/paddleocr/ppocr/utils/dict/table_structure_dict.txt', table_char_type='en', table_max_len=488, table_model_dir='/Users/johnlee/.paddleocr/2.3.0.1/ocr/table/en_ppocr_mobile_v2.0_table_structure_infer', total_process_num=1, type='ocr', use_angle_cls=False, use_dilation=False, use_gpu=False, use_mp=False, use_pdserving=False, use_space_char=True, use_tensorrt=False, version='PP-OCRv2', vis_font_path='./doc/fonts/simfang.ttf', warmup=True)\n",
      "[2021/09/19 01:35:02] root DEBUG: dt_boxes num : 100, elapse : 0.3295741081237793\n",
      "[2021/09/19 01:35:06] root DEBUG: rec_res num  : 100, elapse : 3.8689870834350586\n",
      "{'type': 'Table', 'bbox': [1, 6, 997, 431], 'res': '<html><body><table><thead><tr><td></td><td>人</td><td>B</td><td>c</td><td>P</td><td>E</td><td></td><td>G</td></tr></thead><tbody><tr><td></td><td colspan=\"2\">PurchaselD  ILastname</td><td colspan=\"2\"> IFirstname  lBirthdayIlcountny</td><td colspan=\"2\">vlDate ofpurchase  vlAmountofpurchase yl</td><td>H</td></tr><tr><td>2</td><td colspan=\"2\">1Davidson</td><td>Michael</td><td colspan=\"2\">C4/03/1986 united states</td><td>10/12/2016</td><td>五</td></tr><tr><td>3</td><td colspan=\"2\">2uio</td><td>im</td><td colspan=\"2\">cg/oi/iggq united Kingdom</td><td>c2/02/2016</td><td>8</td></tr><tr><td>4</td><td colspan=\"2\">3Johnson</td><td>Tom</td><td colspan=\"2\">23/08/1972 France</td><td>02/i1/20i6</td><td>因</td></tr><tr><td>5</td><td colspan=\"2\">4Lewis</td><td>lpeter</td><td colspan=\"2\">118/10/1979 Germany</td><td>22/11/2016</td><td>2</td></tr><tr><td>6</td><td colspan=\"2\">5Koenig</td><td>Edward</td><td colspan=\"2\">13/05/1983 Argentina</td><td>26/03/2015</td><td>玉</td></tr><tr><td></td><td colspan=\"2\"> 6 preston</td><td>lack</td><td colspan=\"2\">16/06/1991 United states</td><td>o6/11/2016</td><td>五</td></tr><tr><td>8</td><td colspan=\"2\">7smith</td><td>David</td><td colspan=\"2\">11/03/1965 canadia</td><td>15/i1/20i6</td><td>z</td></tr><tr><td>s</td><td colspan=\"2\">&Brown</td><td>上ui</td><td colspan=\"2\">03/09/1997Australia</td><td>3/o7/20i5</td><td>z</td></tr><tr><td>五</td><td colspan=\"2\">9Miller</td><td>Thomas</td><td colspan=\"2\">07/01/1980 Germany</td><td>07/i1/20i6</td><td></td></tr><tr><td>五</td><td colspan=\"2\"> io wwilliams</td><td>lein</td><td colspan=\"2\">26/07/1960 united states </td><td>20/11/2015</td><td>迎</td></tr><tr><td>1</td><td colspan=\"2\">1iGemini</td><td>Alexia</td><td colspan=\"2\">12/09/1995 canada</td><td>11/03/2017</td><td>玉</td></tr><tr><td>13</td><td colspan=\"2\">12Bond</td><td>James</td><td>25/02/1975 united Kingdom</td><td>12/08/2017</td><td>四</td><td></td></tr><tr><td>14</td><td colspan=\"2\">13Burgle</td><td>Patricia</td><td>01/12/1990 united states</td><td>18/01/2015</td><td></td><td></td></tr><tr><td>a</td><td colspan=\"2\">i4Reding</td><td>Iwichelle eil</td><td>07/04/1985 Canada</td><td>23/02/2017</td><td></td><td>型</td></tr><tr><td>可</td><td>i5 Harey</td><td colspan=\"2\"></td><td>14/07/1971 united Kingdom</td><td>12/01/2016</td><td></td><td>四</td></tr></table></body></html>'}\n"
     ]
    }
   ],
   "source": [
    "table_engine = PPStructure(show_log=True,lang=\"chinese_cht\",use_gpu=False)\n",
    "save_folder = './output/table'\n",
    "img_path = './input_img/ff.jpg'\n",
    "img = cv2.imread(img_path)\n",
    "result = table_engine(img)\n",
    "save_structure_res(result, save_folder,os.path.basename(img_path).split('.')[0])\n",
    "\n",
    "for line in result:\n",
    "    line.pop('img')\n",
    "    print(line)\n",
    "\n",
    "\n",
    "font_path = './forTest/for_impelement/chinese_cht.ttf'\n",
    "image = Image.open(img_path).convert('RGB')\n",
    "im_show = draw_structure_result(image, result,font_path=font_path)\n",
    "im_show = Image.fromarray(im_show)\n",
    "im_show.save('./result.jpg')"
   ]
  },
  {
   "cell_type": "code",
   "execution_count": 76,
   "id": "979ba244-5744-4f9b-850f-8c6a3417cb05",
   "metadata": {},
   "outputs": [
    {
     "data": {
      "text/plain": [
       "True"
      ]
     },
     "execution_count": 76,
     "metadata": {},
     "output_type": "execute_result"
    },
    {
     "data": {
      "image/png": "[encoded data removed]",
      "text/plain": [
       "<Figure size 432x288 with 2 Axes>"
      ]
     },
     "metadata": {
      "needs_background": "light"
     },
     "output_type": "display_data"
    }
   ],
   "source": [
    "img_path = './forTest/S__25207736.jpg'\n",
    "\n",
    "img=cv2.imread(img_path,0)\n",
    "#ret2, otsu_th = cv2.threshold(img,0,255,cv2.THRESH_BINARY+cv2.THRESH_OTSU)\n",
    "\n",
    "th1=cv2.adaptiveThreshold(img,255,cv2.ADAPTIVE_THRESH_MEAN_C,cv2.THRESH_BINARY,7,2)\n",
    "images=[img,th1]\n",
    "plt.figure()\n",
    "for i in range(2):\n",
    "    plt.subplot(2,2,i+1),plt.imshow(images[i],'gray')\n",
    "plt.show\n",
    "cv2.imwrite('./forTest/output.jpg', th1)"
   ]
  },
  {
   "cell_type": "code",
   "execution_count": 54,
   "id": "66b28102-4682-450a-b24a-abecd5136275",
   "metadata": {},
   "outputs": [
    {
     "data": {
      "text/plain": [
       "True"
      ]
     },
     "execution_count": 54,
     "metadata": {},
     "output_type": "execute_result"
    }
   ],
   "source": [
    "cv2.imwrite('./forTest/output.jpg', img)"
   ]
  },
  {
   "cell_type": "code",
   "execution_count": 20,
   "id": "73312281-08e8-4cc5-9215-b64509808d62",
   "metadata": {},
   "outputs": [],
   "source": [
    "import pandas as pd\n",
    "df=pd.read_html(result[0]['res'])"
   ]
  },
  {
   "cell_type": "code",
   "execution_count": 26,
   "id": "3936297a-6ea9-4d12-a797-6136d47e7486",
   "metadata": {},
   "outputs": [],
   "source": [
    "df[0].to_excel(\"./data.xlsx\")\n"
   ]
  },
  {
   "cell_type": "code",
   "execution_count": null,
   "id": "9454c3a4-2225-461f-bf39-16dd4b2080ad",
   "metadata": {},
   "outputs": [],
   "source": []
  }
 ],
 "metadata": {
  "kernelspec": {
   "display_name": "Python 3",
   "language": "python",
   "name": "python3"
  },
  "language_info": {
   "codemirror_mode": {
    "name": "ipython",
    "version": 3
   },
   "file_extension": ".py",
   "mimetype": "text/x-python",
   "name": "python",
   "nbconvert_exporter": "python",
   "pygments_lexer": "ipython3",
   "version": "3.7.10"
  }
 },
 "nbformat": 4,
 "nbformat_minor": 5
}
